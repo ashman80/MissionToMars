{
 "cells": [
  {
   "cell_type": "code",
   "execution_count": 1,
   "metadata": {},
   "outputs": [],
   "source": [
    "from bs4 import BeautifulSoup\n",
    "import pymongo\n",
    "from splinter import Browser\n",
    "import requests\n",
    "import time\n",
    "import pandas as pd"
   ]
  },
  {
   "cell_type": "code",
   "execution_count": 2,
   "metadata": {},
   "outputs": [],
   "source": [
    "def scrape():\n",
    "    # # Current News from NASA Website\n",
    "\n",
    "    #set up splinter browser\n",
    "    executable_path = {'executable_path': '/usr/local/bin/chromedriver'}\n",
    "    browser = Browser('chrome', **executable_path, headless = False)\n",
    "\n",
    "    #visit url\n",
    "    url = \"https://mars.nasa.gov/news/\"\n",
    "    browser.visit(url)\n",
    "\n",
    "    #pull html text and parse\n",
    "    html_code = browser.html\n",
    "    soup = BeautifulSoup(html_code, \"html.parser\")\n",
    "\n",
    "    #grab needed info\n",
    "    news_title = soup.find('div', class_=\"bottom_gradient\").text\n",
    "    news_p = soup.find('div', class_=\"rollover_description_inner\").text"
   ]
  },
  {
   "cell_type": "code",
   "execution_count": 3,
   "metadata": {},
   "outputs": [
    {
     "ename": "IndentationError",
     "evalue": "unexpected indent (<ipython-input-3-b4f59cfa3df7>, line 2)",
     "output_type": "error",
     "traceback": [
      "\u001b[1;36m  File \u001b[1;32m\"<ipython-input-3-b4f59cfa3df7>\"\u001b[1;36m, line \u001b[1;32m2\u001b[0m\n\u001b[1;33m    jpl_url = \"https://www.jpl.nasa.gov/spaceimages/?search=&category=Mars\"\u001b[0m\n\u001b[1;37m    ^\u001b[0m\n\u001b[1;31mIndentationError\u001b[0m\u001b[1;31m:\u001b[0m unexpected indent\n"
     ]
    }
   ],
   "source": [
    "     # Featured Image URL & visit\n",
    "    jpl_url = \"https://www.jpl.nasa.gov/spaceimages/?search=&category=Mars\"\n",
    "    browser.visit(jpl_url)\n",
    "\n",
    "    #navigate to link\n",
    "    browser.click_link_by_partial_text('FULL IMAGE')\n",
    "    time.sleep(20)\n",
    "    browser.click_link_by_partial_text('more info')\n",
    "\n",
    "    #get html code once at page\n",
    "    image_html = browser.html\n",
    "\n",
    "    #parse\n",
    "    soup = BeautifulSoup(image_html, \"html.parser\")\n",
    "\n",
    "    #find path and make full path\n",
    "    image_path = soup.find('figure', class_='lede').a['href']\n",
    "    featured_image_url = \"https://www.jpl.nasa.gov/\" + image_path"
   ]
  },
  {
   "cell_type": "code",
   "execution_count": null,
   "metadata": {},
   "outputs": [],
   "source": [
    "    # # Mars Weather\n",
    "\n",
    "    #weather url and html\n",
    "    marsweather_url = \"https://twitter.com/marswxreport?lang=en\"\n",
    "    browser.visit(marsweather_url)\n",
    "    weather_html = browser.html\n",
    "\n",
    "    #get lastest tweet\n",
    "    soup = BeautifulSoup(weather_html, 'html.parser')\n",
    "    mars_weather = soup.find('p', class_=\"TweetTextSize TweetTextSize--normal js-tweet-text tweet-text\").text"
   ]
  },
  {
   "cell_type": "code",
   "execution_count": null,
   "metadata": {},
   "outputs": [],
   "source": [
    "    # # Mars Facts\n",
    "\n",
    "    #mars facts url and splinter visit\n",
    "    facts_url = \"https://space-facts.com/mars/\"\n",
    "    browser.visit(facts_url)\n",
    "\n",
    "    #get html\n",
    "    facts_html = browser.html\n",
    "    soup = BeautifulSoup(facts_html, 'html.parser')\n",
    "\n",
    "    #get the entire table\n",
    "    table_data = soup.find('table', class_=\"tablepress tablepress-id-mars\")\n",
    "\n",
    "    #find all instances of table row\n",
    "    table_all = table_data.find_all('tr')\n",
    "\n",
    "    #set up lists to hold td elements which alternate between label and value\n",
    "    labels = []\n",
    "    values = []\n"
   ]
  },
  {
   "cell_type": "code",
   "execution_count": null,
   "metadata": {},
   "outputs": [],
   "source": [
    "    #for each tr element append the first td element to labels and the second to values\n",
    "    for tr in table_all:\n",
    "        td_elements = tr.find_all('td')\n",
    "        labels.append(td_elements[0].text)\n",
    "        values.append(td_elements[1].text)\n",
    "            \n",
    "\n",
    "    #make a data frame\n",
    "    mars_facts_df = pd.DataFrame({\n",
    "        \"Label\": labels,\n",
    "        \"Values\": values\n",
    "    })\n"
   ]
  },
  {
   "cell_type": "code",
   "execution_count": null,
   "metadata": {},
   "outputs": [],
   "source": [
    "    # get html code for DataFrame\n",
    "    fact_table = mars_facts_df.to_html(header = False, index = False)\n",
    "    fact_table\n",
    "\n",
    "\n",
    "    ### Hemisphere Images\n",
    "    # new url\n",
    "    usgs_url = \"https://astrogeology.usgs.gov/search/results?q=hemisphere+enhanced&k1=target&v1=Mars\"\n",
    "\n",
    "    browser.visit(usgs_url)\n",
    "\n",
    "    usgs_html = browser.html\n",
    "\n",
    "    soup = BeautifulSoup(usgs_html, \"html.parser\")\n",
    "\n",
    "    # gets class holding hemisphere picture\n",
    "    returns = soup.find('div', class_=\"collapsible results\")\n",
    "    hemispheres = returns.find_all('a')"
   ]
  },
  {
   "cell_type": "code",
   "execution_count": null,
   "metadata": {},
   "outputs": [],
   "source": [
    "    #setup list to hold dictionaries\n",
    "    hemisphere_image_urls =[]\n",
    "\n",
    "    for a in hemispheres:\n",
    "        #get title and link from main page\n",
    "        title = a.h3.text\n",
    "        link = \"https://astrogeology.usgs.gov\" + a['href']\n",
    "        \n",
    "        #follow link from each page\n",
    "        browser.visit(link)\n",
    "        time.sleep(3)\n",
    "        \n",
    "        #get image links\n",
    "        image_page = browser.html\n",
    "        results = BeautifulSoup(image_page, 'html.parser')\n",
    "        img_link = results.find('div', class_='downloads').find('li').a['href']\n",
    "        \n",
    "        # create image dictionary for each image and title\n",
    "        image_dict = {}\n",
    "        image_dict['title'] = title\n",
    "        image_dict['img_url'] = img_link\n",
    "        \n",
    "        hemisphere_image_urls.append(image_dict)\n",
    "        \n",
    "    #print(hemisphere_image_urls)"
   ]
  },
  {
   "cell_type": "code",
   "execution_count": null,
   "metadata": {},
   "outputs": [],
   "source": [
    "    mars_dict = {\n",
    "        \"id\": 1,\n",
    "        \"news_title\": news_title,\n",
    "        \"news_p\": news_p,\n",
    "        \"featured_image_url\": featured_image_url,\n",
    "        \"mars_weather\": mars_weather,\n",
    "        \"fact_table\": fact_table,\n",
    "        \"hemisphere_images\": hemisphere_image_urls\n",
    "    }\n",
    "\n",
    "    return mars_dict"
   ]
  }
 ],
 "metadata": {
  "kernelspec": {
   "display_name": "Python 3",
   "language": "python",
   "name": "python3"
  },
  "language_info": {
   "codemirror_mode": {
    "name": "ipython",
    "version": 3
   },
   "file_extension": ".py",
   "mimetype": "text/x-python",
   "name": "python",
   "nbconvert_exporter": "python",
   "pygments_lexer": "ipython3",
   "version": "3.6.4"
  }
 },
 "nbformat": 4,
 "nbformat_minor": 2
}
